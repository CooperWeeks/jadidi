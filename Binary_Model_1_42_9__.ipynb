{
  "nbformat": 4,
  "nbformat_minor": 0,
  "metadata": {
    "colab": {
      "provenance": [],
      "authorship_tag": "ABX9TyNyMznnKozstAkLs2CLct5p",
      "include_colab_link": true
    },
    "kernelspec": {
      "name": "python3",
      "display_name": "Python 3"
    },
    "language_info": {
      "name": "python"
    }
  },
  "cells": [
    {
      "cell_type": "markdown",
      "metadata": {
        "id": "view-in-github",
        "colab_type": "text"
      },
      "source": [
        "<a href=\"https://colab.research.google.com/github/CooperWeeks/jadidi/blob/main/Binary_Model_1_42_9__.ipynb\" target=\"_parent\"><img src=\"https://colab.research.google.com/assets/colab-badge.svg\" alt=\"Open In Colab\"/></a>"
      ]
    },
    {
      "cell_type": "code",
      "source": [],
      "metadata": {
        "id": "BiDlOQUWq2Ki"
      },
      "execution_count": null,
      "outputs": []
    },
    {
      "cell_type": "code",
      "source": [
        "%%capture\n",
        "# Installs Unsloth, Xformers (Flash Attention) and all other packages!\n",
        "!pip install \"unsloth[colab-new] @ git+https://github.com/unslothai/unsloth.git\"\n",
        "\n",
        "# We have to check which Torch version for Xformers (2.3 -> 0.0.27)\n",
        "from torch import __version__; from packaging.version import Version as V\n",
        "xformers = \"xformers==0.0.27\" if V(__version__) < V(\"2.4.0\") else \"xformers\"\n",
        "!pip install --no-deps {xformers} trl peft accelerate bitsandbytes triton"
      ],
      "metadata": {
        "id": "m3kMo8NwaRWC"
      },
      "execution_count": null,
      "outputs": []
    },
    {
      "cell_type": "code",
      "source": [
        "import csv\n",
        "import json\n",
        "\n",
        "# File paths\n",
        "csv_file = 'train_test_network.csv'\n",
        "jsonl_file = 'train_test_network.jsonl'\n",
        "\n",
        "with open(csv_file, 'r') as f, open(jsonl_file, 'w') as jsonl_f:\n",
        "    reader = csv.DictReader(f)\n",
        "\n",
        "    for row in reader:\n",
        "        # Normalize the label to ensure comparison is case-insensitive\n",
        "        label_field = row['type'].strip().lower()\n",
        "\n",
        "        # Determine if the connection is an attack or normal\n",
        "        label = 'normal' if label_field == 'normal' else 'attack'\n",
        "\n",
        "        # Construct the user message by concatenating all relevant fields\n",
        "        user_message = \", \".join([f\"{key}: {value}\" for key, value in row.items() if key != 'label' and key != 'type'])\n",
        "\n",
        "        # Create the conversation in the desired format\n",
        "        conversation = {\n",
        "            \"conversations\": [\n",
        "                {\"from\": \"human\", \"value\": user_message},\n",
        "                {\"from\": \"gpt\", \"value\": label}\n",
        "            ]\n",
        "        }\n",
        "\n",
        "        # Write each conversation as a JSON object in a new line\n",
        "        jsonl_f.write(json.dumps(conversation) + \"\\n\")"
      ],
      "metadata": {
        "id": "UEz_Qcy1UoLK"
      },
      "execution_count": null,
      "outputs": []
    },
    {
      "cell_type": "markdown",
      "source": [
        "# **Load Model**"
      ],
      "metadata": {
        "id": "5jtpCUlQAkBW"
      }
    },
    {
      "cell_type": "code",
      "source": [
        "from unsloth import FastLanguageModel\n",
        "import torch\n",
        "\n",
        "samples = 1000\n",
        "max_seq_length = 2048\n",
        "dtype = None\n",
        "load_in_4bit = True # Use 4bit quantization to reduce memory usage. Can be False.\n",
        "\n",
        "# Load the model. Need for tokenizer.\n",
        "model, tokenizer = FastLanguageModel.from_pretrained(\n",
        "    model_name = \"unsloth/Phi-3.5-mini-instruct\",\n",
        "    max_seq_length = max_seq_length,\n",
        "    dtype = dtype,\n",
        "    load_in_4bit = load_in_4bit,\n",
        ")"
      ],
      "metadata": {
        "colab": {
          "base_uri": "https://localhost:8080/",
          "height": 362,
          "referenced_widgets": [
            "40e948bb843f4608b58c47fd6ed1be5d",
            "c8ad3ebb823a42b8b438283be6e7fcbe",
            "d9ea3d0c1e424355bf5f8bc173d133f7",
            "44de7f913b2b465e8a9ce93163c0e321",
            "a069ca896d824640b44454e1861b68c1",
            "2cdcc7df281a4a92844a1750b1ba5d05",
            "349d96bb4fdd4cea9d66f0f18359ca33",
            "c9052919d86f451b844a32866f1b1982",
            "bc40ed9b456247b7a6513fa5d7f85e98",
            "44a50ffe692144b3b96f1c17a77cd9dc",
            "9b75d70be06b4a49b9f215b52b19aaca",
            "787b5038ccff416ca553bae115d3849c",
            "44fa7dafe0cb4affa23dbb6a086b3e6a",
            "c6ac9b65c2e94c28af2bcb124ef06bfb",
            "00711a3eec8e48dfb2a509b941255a17",
            "81d2ef638e2b4a1eb9c40bb1f66379f4",
            "bf90374101114442a64ae1594b8b72a9",
            "20853c3e17804ebe9947065e7444051b",
            "99eedfdecf4a40619872f1af4da99920",
            "5c6f8281ddbd472e8af390c2d61d4365",
            "09629b7caff144f3b778e18f91403aff",
            "0efbc1af1209438ead8817e312f82ae6",
            "79ae2fa6d2fd493cb0c215e3b13aed53",
            "7376e48ff5004d6e94c46c86bf2f89e6",
            "483b5ad50db34477becc950e96fd85d4",
            "9a710fa7106f4a10ad26765d98424cd7",
            "20422d7ed9cc4039a893ae7e825e72e6",
            "33c7b696eb854367a8758ca969a524f0",
            "6904d46c43c7481d81a9dee2cbddaec4",
            "bd8146cf7f8848d78575f07e132bcb33",
            "e673f9a7b4fe4148a50b9ec1f57b5f1b",
            "aae89d21ccfe42e7b6642f32172a0ffb",
            "b1e24d51d8ec400394e2c6d33c3de04e",
            "170804df753144bab8b114b08bd379ae",
            "ede9f20a1cbb4d3d8f36b819de71ba10",
            "52723a5caf784c78a4cb0876971b9428",
            "86f6d4e31a5643c0a271cf6fd60de7dc",
            "e38c9a5439af4b65a358d6f6de3be3fc",
            "6cb0493d8abc478bba45d1cffcd95eed",
            "713c0268b75b49b1a0a1aec6f149eec2",
            "ba3552a983964e1f9bf560ba069c3aa0",
            "c2429f861d014978be5376cca037bbd7",
            "9be60e4718254a82b413b0c54e98ae2f",
            "ab08ed41ba634f6783880a20943f797f",
            "67239c22791b4cdf927e8b44aa445f29",
            "c8d11dfde1484f639ad1c33fd18cce9c",
            "2b63083238fb4f05858cdf24a1ea0cf2",
            "fa66aea82743446fad8ef718d93e5ef5",
            "c026c7dec6ab4c3b9bbe41959f08a3cb",
            "4e7ba10fe5554833854acc16fecb9848",
            "f6b99aef360148829468e3f981eb6e99",
            "b50050deda7945b6a9b4e388f6a645e3",
            "21f71386e4674759b97ebd5cf7500096",
            "d5529ef8f54944fda2a5e87b8396083e",
            "11cefcdf8d0a4b1ba9ba21fe60490b4d",
            "16e5bec5c6b74808807e2a93f6982441",
            "bb94e2ba74054e81aeb7604bcfd46145",
            "ce821d81968a46e39b4d27dda62571e5",
            "e87b3f31c99c4abfbc2a4b3b98e48444",
            "1cd215c83f28491b8fbba7a24a7bb3f6",
            "4558dcfa9323417bb198c2aafc3d2533",
            "3f5e82994612465a949a50fb818d9c67",
            "a85087b73b004af9a070d282c2bd89d5",
            "677d4f5a305d462badc3167f4178dcaa",
            "05fe2e25285544a087ad39bb4806864b",
            "df076cb85aa0456bbd1f5a91c8ac0036",
            "975e2f0816f447219dd1c75011869ccf",
            "4b0c39ba062f415ba21e50fc1d0e8e42",
            "15771d030b5943468ef7808d52868992",
            "0a4028e6d71a48fe9ad5a8b4b4fd9686",
            "46098f9e10c24f96a075b5e13b0773c3",
            "8f0d702fda1842b9a66b39a8b997dc6e",
            "a40ed758f0b249c2ac4238958c0fb493",
            "7c1d4f2036654745b079ea11f8d25208",
            "d1b68cd3f66e4dedbea19ae0174570ed",
            "8e884a1c8d5746f89117c6daebf784ae",
            "d2c297cdb7984966a534c7e015751e6b"
          ]
        },
        "id": "-_mwfP0jASMX",
        "outputId": "e9b6dc53-b69c-439b-9f52-674fd27934ad"
      },
      "execution_count": null,
      "outputs": [
        {
          "output_type": "stream",
          "name": "stdout",
          "text": [
            "🦥 Unsloth: Will patch your computer to enable 2x faster free finetuning.\n",
            "==((====))==  Unsloth 2024.8: Fast Llama patching. Transformers = 4.44.2.\n",
            "   \\\\   /|    GPU: Tesla T4. Max memory: 14.748 GB. Platform = Linux.\n",
            "O^O/ \\_/ \\    Pytorch: 2.4.0+cu121. CUDA = 7.5. CUDA Toolkit = 12.1.\n",
            "\\        /    Bfloat16 = FALSE. FA [Xformers = 0.0.28. FA2 = False]\n",
            " \"-____-\"     Free Apache license: http://github.com/unslothai/unsloth\n",
            "Unsloth: Fast downloading is enabled - ignore downloading bars which are red colored!\n"
          ]
        },
        {
          "output_type": "display_data",
          "data": {
            "text/plain": [
              "model.safetensors:   0%|          | 0.00/2.26G [00:00<?, ?B/s]"
            ],
            "application/vnd.jupyter.widget-view+json": {
              "version_major": 2,
              "version_minor": 0,
              "model_id": "40e948bb843f4608b58c47fd6ed1be5d"
            }
          },
          "metadata": {}
        },
        {
          "output_type": "display_data",
          "data": {
            "text/plain": [
              "generation_config.json:   0%|          | 0.00/140 [00:00<?, ?B/s]"
            ],
            "application/vnd.jupyter.widget-view+json": {
              "version_major": 2,
              "version_minor": 0,
              "model_id": "787b5038ccff416ca553bae115d3849c"
            }
          },
          "metadata": {}
        },
        {
          "output_type": "display_data",
          "data": {
            "text/plain": [
              "tokenizer_config.json:   0%|          | 0.00/3.37k [00:00<?, ?B/s]"
            ],
            "application/vnd.jupyter.widget-view+json": {
              "version_major": 2,
              "version_minor": 0,
              "model_id": "79ae2fa6d2fd493cb0c215e3b13aed53"
            }
          },
          "metadata": {}
        },
        {
          "output_type": "display_data",
          "data": {
            "text/plain": [
              "tokenizer.model:   0%|          | 0.00/500k [00:00<?, ?B/s]"
            ],
            "application/vnd.jupyter.widget-view+json": {
              "version_major": 2,
              "version_minor": 0,
              "model_id": "170804df753144bab8b114b08bd379ae"
            }
          },
          "metadata": {}
        },
        {
          "output_type": "display_data",
          "data": {
            "text/plain": [
              "added_tokens.json:   0%|          | 0.00/293 [00:00<?, ?B/s]"
            ],
            "application/vnd.jupyter.widget-view+json": {
              "version_major": 2,
              "version_minor": 0,
              "model_id": "67239c22791b4cdf927e8b44aa445f29"
            }
          },
          "metadata": {}
        },
        {
          "output_type": "display_data",
          "data": {
            "text/plain": [
              "special_tokens_map.json:   0%|          | 0.00/571 [00:00<?, ?B/s]"
            ],
            "application/vnd.jupyter.widget-view+json": {
              "version_major": 2,
              "version_minor": 0,
              "model_id": "16e5bec5c6b74808807e2a93f6982441"
            }
          },
          "metadata": {}
        },
        {
          "output_type": "display_data",
          "data": {
            "text/plain": [
              "tokenizer.json:   0%|          | 0.00/1.84M [00:00<?, ?B/s]"
            ],
            "application/vnd.jupyter.widget-view+json": {
              "version_major": 2,
              "version_minor": 0,
              "model_id": "975e2f0816f447219dd1c75011869ccf"
            }
          },
          "metadata": {}
        }
      ]
    },
    {
      "cell_type": "markdown",
      "source": [
        "# **Split the data into test, train and evaluation sets**\n"
      ],
      "metadata": {
        "id": "ihldyrKGSY7E"
      }
    },
    {
      "cell_type": "code",
      "execution_count": null,
      "metadata": {
        "id": "EqY9mvtVhxSM"
      },
      "outputs": [],
      "source": [
        "import torch\n",
        "from unsloth.chat_templates import get_chat_template\n",
        "\n",
        "tokenizer = get_chat_template(\n",
        "    tokenizer,\n",
        "    chat_template = \"phi-3\",\n",
        "    mapping = {\"role\" : \"from\", \"content\" : \"value\", \"user\" : \"human\", \"assistant\" : \"gpt\"}, # ShareGPT style\n",
        ")\n",
        "\n",
        "def formatting_prompts_func(examples):\n",
        "    convos = examples[\"conversations\"]\n",
        "    texts = [tokenizer.apply_chat_template(convo, tokenize = False, add_generation_prompt = False) for convo in convos]\n",
        "    return { \"text\" : texts, }\n",
        "pass"
      ]
    },
    {
      "cell_type": "code",
      "execution_count": null,
      "metadata": {
        "colab": {
          "base_uri": "https://localhost:8080/",
          "height": 145,
          "referenced_widgets": [
            "21dbcd18dc7341cdaac34709d6ecb063",
            "6ed0fdd98a5441209eb600c2733625f0",
            "7e9a4d6c0b314edf8f565b8291e8cfa5",
            "546b3129d80d431a96072b22364b27be",
            "f16ded9401904160b5e23dfba61f4265",
            "0cc6067ff0354ffcb3b304af3c5d7f23",
            "f8884c82f8c24513a89a86212a979617",
            "065d96199b76431b9ad345043cde6ea7",
            "756ece2e00d14755877b01b6b874f249",
            "0f5bdc9cd0bd403c952bc9c82f538466",
            "123de84638494627883af421a730889c",
            "0367ee1757a54480a2f5ba7d0ab8ae5a",
            "85edef2a8d4543c1b41710976161213c",
            "85fd8d5393f94ffa8d4026e3c38c7b79",
            "a5110c66cd684e6182e528288815264b",
            "b52742087ed043aeaec40ad5487c7eaa",
            "3400df4b140e4f2991992d572695c77c",
            "3bf07f33f6b14461bbeb24002c1cb791",
            "5178caa24d374cd380f6ebe5aa914aaa",
            "8e1348b4442042338ed66f68e59adf47",
            "379acce8539e4bd4b2605347f4739b75",
            "350864ef7aba4dc7b72efdd168563a26",
            "2270dd7dc88b4395a7b47137557c478f",
            "2313e7a215434d2091f68e7e3e800e31",
            "dc57ba9f0be84d0481b272544afcdac6",
            "e72433f33796494abfc9062e21c83100",
            "d64488842da64c0b900c292202423dce",
            "f1a7a61610b24bba9df7f2412ed79bb3",
            "67af2d91f5164ff6acc699232f9348e2",
            "d60fd18325324573a55c757d20f3a555",
            "6e1c014f56464e9e98ebd026201a6a82",
            "0e62f80500934e349647056296c35507",
            "88dbbd287fe44513a3d4658dae2a298d",
            "778b177fde524c1b89c8a956caeb881e",
            "74c598778c66456eb9d512fcf61ab203",
            "a4897afa38474832abbd780235860ccd",
            "3d4e17af27214eab8034cb423547cb05",
            "3109b45a830841c481ccea716fe45e0c",
            "f20431c495b64b00abeef21cadb719f8",
            "655526a98d6948488d0d14ccbebdcd0b",
            "06f53c98f17548eda43a412f0ac1e6f6",
            "ea76f60ebb4940eea0574842cdcc5121",
            "9132841b634c4abba3b4d48fabd2bb2c",
            "de6fda84f2ab4b8488b70467c39aad5b"
          ]
        },
        "id": "J068TkOzx5ob",
        "outputId": "165c41cd-2254-4ba6-9326-73131b0421ae"
      },
      "outputs": [
        {
          "output_type": "display_data",
          "data": {
            "text/plain": [
              "Generating train split: 0 examples [00:00, ? examples/s]"
            ],
            "application/vnd.jupyter.widget-view+json": {
              "version_major": 2,
              "version_minor": 0,
              "model_id": "21dbcd18dc7341cdaac34709d6ecb063"
            }
          },
          "metadata": {}
        },
        {
          "output_type": "display_data",
          "data": {
            "text/plain": [
              "Map:   0%|          | 0/135067 [00:00<?, ? examples/s]"
            ],
            "application/vnd.jupyter.widget-view+json": {
              "version_major": 2,
              "version_minor": 0,
              "model_id": "0367ee1757a54480a2f5ba7d0ab8ae5a"
            }
          },
          "metadata": {}
        },
        {
          "output_type": "display_data",
          "data": {
            "text/plain": [
              "Map:   0%|          | 0/33767 [00:00<?, ? examples/s]"
            ],
            "application/vnd.jupyter.widget-view+json": {
              "version_major": 2,
              "version_minor": 0,
              "model_id": "2270dd7dc88b4395a7b47137557c478f"
            }
          },
          "metadata": {}
        },
        {
          "output_type": "display_data",
          "data": {
            "text/plain": [
              "Map:   0%|          | 0/42209 [00:00<?, ? examples/s]"
            ],
            "application/vnd.jupyter.widget-view+json": {
              "version_major": 2,
              "version_minor": 0,
              "model_id": "778b177fde524c1b89c8a956caeb881e"
            }
          },
          "metadata": {}
        }
      ],
      "source": [
        "from datasets import load_dataset\n",
        "from sklearn.model_selection import train_test_split\n",
        "\n",
        "#Files located in google colab gpu instance,\n",
        "file_path = f'/content/{jsonl_file}'\n",
        "dataset = load_dataset('json', data_files=file_path, split='train')\n",
        "\n",
        "# Split the dataset\n",
        "split_dataset = dataset.train_test_split(test_size=0.2)  # 20% test data\n",
        "\n",
        "# Access the training and testing splits\n",
        "train_dataset = split_dataset['train']\n",
        "test_dataset = split_dataset['test']\n",
        "\n",
        "# Further split the training dataset into train and validation sets\n",
        "train_split = train_dataset.train_test_split(test_size=0.2)  # 20% test data\n",
        "\n",
        "# Access the new splits\n",
        "train_dataset = train_split['train']\n",
        "eval_dataset = train_split['test']\n",
        "\n",
        "train_dataset = train_dataset.map(formatting_prompts_func, batched = True,)\n",
        "eval_dataset = eval_dataset.map(formatting_prompts_func, batched = True,)\n",
        "test_dataset = test_dataset.map(formatting_prompts_func, batched = True,)"
      ]
    },
    {
      "cell_type": "code",
      "source": [
        "import time\n",
        "import sys\n",
        "\n",
        "def evaluate_model_on_dataset(model, tokenizer, test_dataset, num_samples):\n",
        "\n",
        "    # Enable native 2x faster inference\n",
        "    FastLanguageModel.for_inference(model)\n",
        "\n",
        "    # List to store predictions\n",
        "    predictions = []\n",
        "    ground_truths = []\n",
        "    start_time = time.time()\n",
        "\n",
        "    # Metrics\n",
        "    correct = 0\n",
        "    incorrect = 0\n",
        "    accuracy = 0\n",
        "\n",
        "    prompt = \"Given the following network data, classify the traffic as either 'attack' or 'normal' with a single word:\\n\\n\"\n",
        "    print(f\"Prompt: {prompt}\")\n",
        "\n",
        "    # Function to map incomplete answers to full words (e.g attac or norm)\n",
        "    def complete_prediction(pred):\n",
        "        if pred.lower().startswith('a'):\n",
        "            return \"attack\"\n",
        "        elif pred.lower().startswith('n'):\n",
        "            return \"normal\"\n",
        "        else:\n",
        "            return pred  # Return as is if it doesn't start with 'a' or 'n'\n",
        "\n",
        "    # Loop over each item in the test dataset\n",
        "    for item in test_dataset.select(range(num_samples)):\n",
        "\n",
        "        # Extract the human input from the item\n",
        "        human_input = item['conversations'][0]['value']\n",
        "\n",
        "        # Prepare messages with the current input\n",
        "        message = [{\"from\": \"human\", \"value\": f\"{prompt}{human_input}\"}]\n",
        "\n",
        "        # Tokenize the input\n",
        "        inputs = tokenizer.apply_chat_template(\n",
        "            message,\n",
        "            tokenize=True,\n",
        "            add_generation_prompt=True,  # Must add for generation\n",
        "            return_tensors=\"pt\",\n",
        "        ).to(\"cuda\")\n",
        "\n",
        "        # Generate the output\n",
        "        outputs = model.generate(input_ids=inputs, max_new_tokens=1, use_cache=True)\n",
        "        answer = tokenizer.batch_decode(outputs)\n",
        "\n",
        "        # Process the prediction\n",
        "        pred = complete_prediction(answer[0].split()[-1])\n",
        "        truth = item['conversations'][1]['value'].strip()\n",
        "\n",
        "        # Append predictions and truths\n",
        "        predictions.append(pred)\n",
        "        ground_truths.append(truth)\n",
        "\n",
        "        # Update metrics\n",
        "        if pred == truth:\n",
        "            correct += 1\n",
        "            color_code = \"\\033[32m\"  # Green\n",
        "        else:\n",
        "            incorrect += 1\n",
        "            color_code = \"\\033[31m\"  # Red\n",
        "\n",
        "        # Calculate accuracy\n",
        "        elapsed_time = time.time() - start_time\n",
        "        accuracy = (correct / (correct + incorrect)) * 100\n",
        "\n",
        "        # Print current status\n",
        "        sys.stdout.write(f\"\\rElapsed Time: {elapsed_time:.2f} seconds, Accuracy: {accuracy:.2f}%, Completed: {correct + incorrect}/{num_samples} Prediction: {color_code}{pred}\\033[0m, Ground Truth: {color_code}{truth}\\033[0m\")\n",
        "        sys.stdout.flush()\n",
        "\n",
        "    print(\"\\n\\n\\nInference Complete\\n\\n\\n\")\n",
        "\n",
        "    return predictions, ground_truths"
      ],
      "metadata": {
        "id": "6N1GoeHFY_cC"
      },
      "execution_count": null,
      "outputs": []
    },
    {
      "cell_type": "code",
      "source": [
        "import matplotlib.pyplot as plt\n",
        "import seaborn as sns\n",
        "from sklearn.metrics import accuracy_score, precision_score, recall_score, f1_score, confusion_matrix, classification_report\n",
        "import numpy as np\n",
        "import pandas as pd\n",
        "\n",
        "def metrics(predictions, ground_truths):\n",
        "    # Convert to numpy arrays\n",
        "    y_true = np.array(ground_truths)\n",
        "    y_pred = np.array(predictions)\n",
        "\n",
        "    # Convert string labels to numeric values\n",
        "    label_mapping = {'attack': 1, 'normal': 0}\n",
        "    y_true_numeric = np.array([label_mapping[label] for label in y_true])\n",
        "    y_pred_numeric = np.array([label_mapping[label] for label in y_pred])\n",
        "\n",
        "    accuracy = accuracy_score(y_true, y_pred)*100\n",
        "    print(f\"Accuracy: {accuracy:.2f}%\\n\")\n",
        "\n",
        "    # Print classification report\n",
        "    class_report = classification_report(y_true, y_pred, labels=['attack', 'normal'])\n",
        "    print(\"Classification Report:\")\n",
        "    print(class_report, '\\n')\n",
        "\n",
        "    # Compute metrics\n",
        "    precision = precision_score(y_true, y_pred, average=None, labels=['attack', 'normal'])\n",
        "    recall = recall_score(y_true, y_pred, average=None, labels=['attack', 'normal'])\n",
        "    f1 = f1_score(y_true, y_pred, average=None, labels=['attack', 'normal'])\n",
        "\n",
        "    metrics_df = pd.DataFrame({\n",
        "        'Class': ['attack', 'normal'],\n",
        "        'Precision': precision,\n",
        "        'Recall': recall,\n",
        "        'F1 Score': f1\n",
        "    })\n",
        "\n",
        "    # Create subplots\n",
        "    fig, axes = plt.subplots(1, 2, figsize=(18, 6))  # Two plots side by side\n",
        "\n",
        "    # Plot precision, recall, and F1 score\n",
        "    metrics_df.plot(x='Class', kind='bar', ax=axes[0])\n",
        "    axes[0].set_title('Precision, Recall, and F1 Score by Class')\n",
        "    axes[0].set_xlabel('Class')\n",
        "    axes[0].set_ylabel('Score')\n",
        "    axes[0].set_ylim(0, 1)\n",
        "\n",
        "    # Plot confusion matrix\n",
        "    cm = confusion_matrix(y_true, y_pred, labels=['attack', 'normal'])\n",
        "    sns.heatmap(cm, annot=True, fmt='d', cmap='Blues', xticklabels=['attack', 'normal'], yticklabels=['attack', 'normal'], ax=axes[1])\n",
        "    axes[1].set_xlabel('Predicted')\n",
        "    axes[1].set_ylabel('True')\n",
        "    axes[1].set_title('Confusion Matrix')\n",
        "\n",
        "    # Adjust layout\n",
        "    plt.subplots_adjust(wspace=0.3)\n",
        "    plt.show()\n"
      ],
      "metadata": {
        "id": "mVmdz7LNJ1MO"
      },
      "execution_count": null,
      "outputs": []
    },
    {
      "cell_type": "markdown",
      "source": [
        "## **Fine-Tuning**"
      ],
      "metadata": {
        "id": "0KQutcDakYDQ"
      }
    },
    {
      "cell_type": "markdown",
      "source": [
        "**Fine-Tuning the Phi 3 Model for Cybersecurity Data Labeling**\n",
        "\n",
        "In this notebook, we are fine-tuning the Phi 3 model to enhance its performance in cybersecurity data labeling tasks. Although the Phi 3 model is powerful, it is initially pre-trained on general text data, which may not fully capture the specific patterns and nuances present in cybersecurity datasets. Through fine-tuning, we aim to adapt the model to the unique characteristics of our data, enabling it to more effectively distinguish between normal network traffic and potential threats.\n",
        "\n",
        "Fine-tuning is a critical step in ensuring that the model is well-suited to the specific challenges of our data labeling project, leading to more accurate and reliable predictions, which are crucial for effective intrusion detection.\n",
        "\n",
        "We are using Unsloth, a specialized tool designed to optimize and streamline the fine-tuning process for large language models. Unsloth allows us to efficiently manage and apply the necessary transformations and templates that align the model's training with our specific objectives in cybersecurity. By leveraging Unsloth, we can customize the fine-tuning process, making it more effective and tailored to our needs.\n",
        "\n",
        "Using Unsloth ensures that the fine-tuning process is not only faster but also more closely aligned with the demands of our project, ultimately leading to better results in our intrusion detection tasks."
      ],
      "metadata": {
        "id": "akPip2OuQRhm"
      }
    },
    {
      "cell_type": "code",
      "execution_count": null,
      "metadata": {
        "colab": {
          "base_uri": "https://localhost:8080/"
        },
        "id": "t2TEQ8JkhpWh",
        "outputId": "e205b2c6-0c95-4def-c50a-2e96c012b91d"
      },
      "outputs": [
        {
          "output_type": "stream",
          "name": "stderr",
          "text": [
            "Unsloth 2024.8 patched 32 layers with 32 QKV layers, 32 O layers and 32 MLP layers.\n"
          ]
        }
      ],
      "source": [
        "model = FastLanguageModel.get_peft_model(\n",
        "    model,\n",
        "    r = 128, # Choose any number > 0 ! Suggested 8, 16, 32, 64, 128\n",
        "    target_modules = [\"q_proj\", \"k_proj\", \"v_proj\", \"o_proj\",\n",
        "                      \"gate_proj\", \"up_proj\", \"down_proj\",],\n",
        "    lora_alpha = 10,\n",
        "    lora_dropout = 0, # Supports any, but = 0 is optimized\n",
        "    bias = \"none\",    # Supports any, but = \"none\" is optimized\n",
        "    # [NEW] \"unsloth\" uses 30% less VRAM, fits 2x larger batch sizes!\n",
        "    use_gradient_checkpointing = \"unsloth\", # True or \"unsloth\" for very long context\n",
        "    random_state = 3407,\n",
        "    use_rslora = True,  # We support rank stabilized LoRA\n",
        "    loftq_config = None, # And LoftQ\n",
        ")"
      ]
    },
    {
      "cell_type": "markdown",
      "source": [
        "# **Set model parameters**"
      ],
      "metadata": {
        "id": "VzfgNqIYSkbB"
      }
    },
    {
      "cell_type": "code",
      "execution_count": null,
      "metadata": {
        "colab": {
          "base_uri": "https://localhost:8080/",
          "height": 98,
          "referenced_widgets": [
            "4188b9197c4f4bb8b0bbe794ccbf3aec",
            "1444c7b0b72a44deb76b105a12a90eeb",
            "3790e3e7085c4b8e8787c0b627c8c0d7",
            "5cc07f0d97f84a959d422d3980cb7049",
            "fae2493e43bf46f595007844fa04c964",
            "f8427ca8e38a4b0f94e174c8a8f50d55",
            "c445e44da6ac4264b8d7b382d7d5e006",
            "5dda3e93bebe42ca82f8a8e881c5a33d",
            "12022895c0ac4ec7a91152f002921318",
            "9cef6bb1145a4b83b600276bf40b6556",
            "c9266fd785764f06800d0e8f1066ac24",
            "de62ce1160e64027bdadde06e4c291b7",
            "8472615e98f34e92ba71830bf0cc07b4",
            "aeeaeb9c955f42af9a946210c78b9eca",
            "039b1199935c4672951f7eef45931288",
            "008eea9b641046e4ae0d397bed18172a",
            "9ffdcfc270fe44bf83a11f64c0d86a61",
            "6070a65876344a02adf7139de0aa97f4",
            "324149ac30ed4cd4a67cde9d40b1ae75",
            "9188ab64cf6d4268936dc13ec7ab58fb",
            "493c7ffce2544371990ef1e5f67996ec",
            "72b49992b75942e4b6eeb412db74d10c"
          ]
        },
        "id": "RI6FHOrH6vZb",
        "outputId": "cc229372-4b50-4bbb-c4ed-fb2c2aebca0c"
      },
      "outputs": [
        {
          "output_type": "display_data",
          "data": {
            "text/plain": [
              "Map (num_proc=2):   0%|          | 0/135067 [00:00<?, ? examples/s]"
            ],
            "application/vnd.jupyter.widget-view+json": {
              "version_major": 2,
              "version_minor": 0,
              "model_id": "4188b9197c4f4bb8b0bbe794ccbf3aec"
            }
          },
          "metadata": {}
        },
        {
          "output_type": "display_data",
          "data": {
            "text/plain": [
              "Map (num_proc=2):   0%|          | 0/33767 [00:00<?, ? examples/s]"
            ],
            "application/vnd.jupyter.widget-view+json": {
              "version_major": 2,
              "version_minor": 0,
              "model_id": "de62ce1160e64027bdadde06e4c291b7"
            }
          },
          "metadata": {}
        },
        {
          "output_type": "stream",
          "name": "stderr",
          "text": [
            "max_steps is given, it will override any value given in num_train_epochs\n"
          ]
        }
      ],
      "source": [
        "from trl import SFTTrainer\n",
        "from transformers import TrainingArguments\n",
        "\n",
        "trainer = SFTTrainer(\n",
        "    model = model,\n",
        "    tokenizer = tokenizer,\n",
        "    train_dataset = train_dataset,\n",
        "    eval_dataset = eval_dataset,\n",
        "    dataset_text_field = \"text\",\n",
        "    max_seq_length = max_seq_length,\n",
        "    dataset_num_proc = 2,\n",
        "    packing = False, # Packs short sequences together to save time!\n",
        "    args = TrainingArguments(\n",
        "        per_device_train_batch_size = 4,\n",
        "        gradient_accumulation_steps = 8,\n",
        "        warmup_steps = 5,\n",
        "        max_steps = 80,\n",
        "        num_train_epochs=3,\n",
        "        learning_rate = 2e-5,\n",
        "        fp16 = not torch.cuda.is_bf16_supported(),\n",
        "        bf16 = torch.cuda.is_bf16_supported(),\n",
        "        logging_steps = 1,\n",
        "        optim = \"adamw_8bit\",\n",
        "        weight_decay = 0.1,\n",
        "        lr_scheduler_type = \"linear\",\n",
        "        seed = 3407,\n",
        "        output_dir = \"outputs\",\n",
        "    ),\n",
        ")"
      ]
    },
    {
      "cell_type": "markdown",
      "source": [
        "# **Train Model**"
      ],
      "metadata": {
        "id": "MYJo4aYmS1UH"
      }
    },
    {
      "cell_type": "code",
      "execution_count": null,
      "metadata": {
        "id": "W9OoKlf9b4W3",
        "colab": {
          "base_uri": "https://localhost:8080/",
          "height": 1000
        },
        "outputId": "898e9bc7-c4dc-443c-8041-9d3e7ce76d2e"
      },
      "outputs": [
        {
          "output_type": "stream",
          "name": "stderr",
          "text": [
            "==((====))==  Unsloth - 2x faster free finetuning | Num GPUs = 1\n",
            "   \\\\   /|    Num examples = 135,067 | Num Epochs = 1\n",
            "O^O/ \\_/ \\    Batch size per device = 4 | Gradient Accumulation steps = 8\n",
            "\\        /    Total batch size = 32 | Total steps = 80\n",
            " \"-____-\"     Number of trainable parameters = 239,075,328\n"
          ]
        },
        {
          "output_type": "display_data",
          "data": {
            "text/plain": [
              "<IPython.core.display.HTML object>"
            ],
            "text/html": [
              "\n",
              "    <div>\n",
              "      \n",
              "      <progress value='80' max='80' style='width:300px; height:20px; vertical-align: middle;'></progress>\n",
              "      [80/80 25:24, Epoch 0/1]\n",
              "    </div>\n",
              "    <table border=\"1\" class=\"dataframe\">\n",
              "  <thead>\n",
              " <tr style=\"text-align: left;\">\n",
              "      <th>Step</th>\n",
              "      <th>Training Loss</th>\n",
              "    </tr>\n",
              "  </thead>\n",
              "  <tbody>\n",
              "    <tr>\n",
              "      <td>1</td>\n",
              "      <td>1.444100</td>\n",
              "    </tr>\n",
              "    <tr>\n",
              "      <td>2</td>\n",
              "      <td>1.451600</td>\n",
              "    </tr>\n",
              "    <tr>\n",
              "      <td>3</td>\n",
              "      <td>1.457300</td>\n",
              "    </tr>\n",
              "    <tr>\n",
              "      <td>4</td>\n",
              "      <td>1.392200</td>\n",
              "    </tr>\n",
              "    <tr>\n",
              "      <td>5</td>\n",
              "      <td>1.344600</td>\n",
              "    </tr>\n",
              "    <tr>\n",
              "      <td>6</td>\n",
              "      <td>1.285700</td>\n",
              "    </tr>\n",
              "    <tr>\n",
              "      <td>7</td>\n",
              "      <td>1.240900</td>\n",
              "    </tr>\n",
              "    <tr>\n",
              "      <td>8</td>\n",
              "      <td>1.167700</td>\n",
              "    </tr>\n",
              "    <tr>\n",
              "      <td>9</td>\n",
              "      <td>1.123000</td>\n",
              "    </tr>\n",
              "    <tr>\n",
              "      <td>10</td>\n",
              "      <td>1.054300</td>\n",
              "    </tr>\n",
              "    <tr>\n",
              "      <td>11</td>\n",
              "      <td>1.008900</td>\n",
              "    </tr>\n",
              "    <tr>\n",
              "      <td>12</td>\n",
              "      <td>0.946200</td>\n",
              "    </tr>\n",
              "    <tr>\n",
              "      <td>13</td>\n",
              "      <td>0.872700</td>\n",
              "    </tr>\n",
              "    <tr>\n",
              "      <td>14</td>\n",
              "      <td>0.870400</td>\n",
              "    </tr>\n",
              "    <tr>\n",
              "      <td>15</td>\n",
              "      <td>0.793000</td>\n",
              "    </tr>\n",
              "    <tr>\n",
              "      <td>16</td>\n",
              "      <td>0.768100</td>\n",
              "    </tr>\n",
              "    <tr>\n",
              "      <td>17</td>\n",
              "      <td>0.677200</td>\n",
              "    </tr>\n",
              "    <tr>\n",
              "      <td>18</td>\n",
              "      <td>0.672400</td>\n",
              "    </tr>\n",
              "    <tr>\n",
              "      <td>19</td>\n",
              "      <td>0.615500</td>\n",
              "    </tr>\n",
              "    <tr>\n",
              "      <td>20</td>\n",
              "      <td>0.583700</td>\n",
              "    </tr>\n",
              "    <tr>\n",
              "      <td>21</td>\n",
              "      <td>0.535800</td>\n",
              "    </tr>\n",
              "    <tr>\n",
              "      <td>22</td>\n",
              "      <td>0.481600</td>\n",
              "    </tr>\n",
              "    <tr>\n",
              "      <td>23</td>\n",
              "      <td>0.461200</td>\n",
              "    </tr>\n",
              "    <tr>\n",
              "      <td>24</td>\n",
              "      <td>0.443900</td>\n",
              "    </tr>\n",
              "    <tr>\n",
              "      <td>25</td>\n",
              "      <td>0.400800</td>\n",
              "    </tr>\n",
              "    <tr>\n",
              "      <td>26</td>\n",
              "      <td>0.349700</td>\n",
              "    </tr>\n",
              "    <tr>\n",
              "      <td>27</td>\n",
              "      <td>0.384100</td>\n",
              "    </tr>\n",
              "    <tr>\n",
              "      <td>28</td>\n",
              "      <td>0.337500</td>\n",
              "    </tr>\n",
              "    <tr>\n",
              "      <td>29</td>\n",
              "      <td>0.321100</td>\n",
              "    </tr>\n",
              "    <tr>\n",
              "      <td>30</td>\n",
              "      <td>0.296100</td>\n",
              "    </tr>\n",
              "    <tr>\n",
              "      <td>31</td>\n",
              "      <td>0.247500</td>\n",
              "    </tr>\n",
              "    <tr>\n",
              "      <td>32</td>\n",
              "      <td>0.254400</td>\n",
              "    </tr>\n",
              "    <tr>\n",
              "      <td>33</td>\n",
              "      <td>0.246400</td>\n",
              "    </tr>\n",
              "    <tr>\n",
              "      <td>34</td>\n",
              "      <td>0.265500</td>\n",
              "    </tr>\n",
              "    <tr>\n",
              "      <td>35</td>\n",
              "      <td>0.263100</td>\n",
              "    </tr>\n",
              "    <tr>\n",
              "      <td>36</td>\n",
              "      <td>0.226600</td>\n",
              "    </tr>\n",
              "    <tr>\n",
              "      <td>37</td>\n",
              "      <td>0.248800</td>\n",
              "    </tr>\n",
              "    <tr>\n",
              "      <td>38</td>\n",
              "      <td>0.209200</td>\n",
              "    </tr>\n",
              "    <tr>\n",
              "      <td>39</td>\n",
              "      <td>0.218200</td>\n",
              "    </tr>\n",
              "    <tr>\n",
              "      <td>40</td>\n",
              "      <td>0.221000</td>\n",
              "    </tr>\n",
              "    <tr>\n",
              "      <td>41</td>\n",
              "      <td>0.231300</td>\n",
              "    </tr>\n",
              "    <tr>\n",
              "      <td>42</td>\n",
              "      <td>0.185800</td>\n",
              "    </tr>\n",
              "    <tr>\n",
              "      <td>43</td>\n",
              "      <td>0.171900</td>\n",
              "    </tr>\n",
              "    <tr>\n",
              "      <td>44</td>\n",
              "      <td>0.196800</td>\n",
              "    </tr>\n",
              "    <tr>\n",
              "      <td>45</td>\n",
              "      <td>0.202400</td>\n",
              "    </tr>\n",
              "    <tr>\n",
              "      <td>46</td>\n",
              "      <td>0.183500</td>\n",
              "    </tr>\n",
              "    <tr>\n",
              "      <td>47</td>\n",
              "      <td>0.184200</td>\n",
              "    </tr>\n",
              "    <tr>\n",
              "      <td>48</td>\n",
              "      <td>0.222200</td>\n",
              "    </tr>\n",
              "    <tr>\n",
              "      <td>49</td>\n",
              "      <td>0.166400</td>\n",
              "    </tr>\n",
              "    <tr>\n",
              "      <td>50</td>\n",
              "      <td>0.168800</td>\n",
              "    </tr>\n",
              "    <tr>\n",
              "      <td>51</td>\n",
              "      <td>0.188400</td>\n",
              "    </tr>\n",
              "    <tr>\n",
              "      <td>52</td>\n",
              "      <td>0.179500</td>\n",
              "    </tr>\n",
              "    <tr>\n",
              "      <td>53</td>\n",
              "      <td>0.171900</td>\n",
              "    </tr>\n",
              "    <tr>\n",
              "      <td>54</td>\n",
              "      <td>0.189700</td>\n",
              "    </tr>\n",
              "    <tr>\n",
              "      <td>55</td>\n",
              "      <td>0.156300</td>\n",
              "    </tr>\n",
              "    <tr>\n",
              "      <td>56</td>\n",
              "      <td>0.174100</td>\n",
              "    </tr>\n",
              "    <tr>\n",
              "      <td>57</td>\n",
              "      <td>0.156700</td>\n",
              "    </tr>\n",
              "    <tr>\n",
              "      <td>58</td>\n",
              "      <td>0.157500</td>\n",
              "    </tr>\n",
              "    <tr>\n",
              "      <td>59</td>\n",
              "      <td>0.183300</td>\n",
              "    </tr>\n",
              "    <tr>\n",
              "      <td>60</td>\n",
              "      <td>0.173600</td>\n",
              "    </tr>\n",
              "    <tr>\n",
              "      <td>61</td>\n",
              "      <td>0.210000</td>\n",
              "    </tr>\n",
              "    <tr>\n",
              "      <td>62</td>\n",
              "      <td>0.179800</td>\n",
              "    </tr>\n",
              "    <tr>\n",
              "      <td>63</td>\n",
              "      <td>0.161200</td>\n",
              "    </tr>\n",
              "    <tr>\n",
              "      <td>64</td>\n",
              "      <td>0.204400</td>\n",
              "    </tr>\n",
              "    <tr>\n",
              "      <td>65</td>\n",
              "      <td>0.142200</td>\n",
              "    </tr>\n",
              "    <tr>\n",
              "      <td>66</td>\n",
              "      <td>0.169100</td>\n",
              "    </tr>\n",
              "    <tr>\n",
              "      <td>67</td>\n",
              "      <td>0.177300</td>\n",
              "    </tr>\n",
              "    <tr>\n",
              "      <td>68</td>\n",
              "      <td>0.166100</td>\n",
              "    </tr>\n",
              "    <tr>\n",
              "      <td>69</td>\n",
              "      <td>0.221600</td>\n",
              "    </tr>\n",
              "    <tr>\n",
              "      <td>70</td>\n",
              "      <td>0.196500</td>\n",
              "    </tr>\n",
              "    <tr>\n",
              "      <td>71</td>\n",
              "      <td>0.165600</td>\n",
              "    </tr>\n",
              "    <tr>\n",
              "      <td>72</td>\n",
              "      <td>0.169000</td>\n",
              "    </tr>\n",
              "    <tr>\n",
              "      <td>73</td>\n",
              "      <td>0.174000</td>\n",
              "    </tr>\n",
              "    <tr>\n",
              "      <td>74</td>\n",
              "      <td>0.188100</td>\n",
              "    </tr>\n",
              "    <tr>\n",
              "      <td>75</td>\n",
              "      <td>0.155300</td>\n",
              "    </tr>\n",
              "    <tr>\n",
              "      <td>76</td>\n",
              "      <td>0.157100</td>\n",
              "    </tr>\n",
              "    <tr>\n",
              "      <td>77</td>\n",
              "      <td>0.153500</td>\n",
              "    </tr>\n",
              "    <tr>\n",
              "      <td>78</td>\n",
              "      <td>0.155900</td>\n",
              "    </tr>\n",
              "    <tr>\n",
              "      <td>79</td>\n",
              "      <td>0.167600</td>\n",
              "    </tr>\n",
              "    <tr>\n",
              "      <td>80</td>\n",
              "      <td>0.188200</td>\n",
              "    </tr>\n",
              "  </tbody>\n",
              "</table><p>"
            ]
          },
          "metadata": {}
        }
      ],
      "source": [
        "trainer_stats = trainer.train()"
      ]
    },
    {
      "cell_type": "markdown",
      "source": [
        "# **Run inference on test data**"
      ],
      "metadata": {
        "id": "D4bnxjTOS6OG"
      }
    },
    {
      "cell_type": "code",
      "execution_count": null,
      "metadata": {
        "id": "thGuQIEPYJog",
        "colab": {
          "base_uri": "https://localhost:8080/"
        },
        "outputId": "5c13ac09-08a9-41e2-a924-1c2470c56201"
      },
      "outputs": [
        {
          "output_type": "stream",
          "name": "stderr",
          "text": [
            "The attention mask is not set and cannot be inferred from input because pad token is same as eos token. As a consequence, you may observe unexpected behavior. Please pass your input's `attention_mask` to obtain reliable results.\n"
          ]
        },
        {
          "output_type": "stream",
          "name": "stdout",
          "text": [
            "Prompt: Given the following network data, classify the traffic as either 'attack' or 'normal' with a single word:\n",
            "\n",
            "\n",
            "Elapsed Time: 292.20 seconds, Accuracy: 42.90%, Completed: 1000/1000 Prediction: \u001b[32mnormal\u001b[0m, Ground Truth: \u001b[32mnormal\u001b[0m\n",
            "\n",
            "\n",
            "Inference Complete\n",
            "\n",
            "\n",
            "\n"
          ]
        }
      ],
      "source": [
        "# Call the evaluation function\n",
        "pred, truth = evaluate_model_on_dataset(model, tokenizer, test_dataset, num_samples=samples)"
      ]
    },
    {
      "cell_type": "markdown",
      "source": [],
      "metadata": {
        "id": "j1M3mCf8fogx"
      }
    },
    {
      "cell_type": "code",
      "source": [
        "metrics(pred, truth)"
      ],
      "metadata": {
        "colab": {
          "base_uri": "https://localhost:8080/",
          "height": 824
        },
        "id": "jqJ56550huU2",
        "outputId": "408253af-83d4-4c69-e43d-ab3837d1c268"
      },
      "execution_count": null,
      "outputs": [
        {
          "output_type": "stream",
          "name": "stdout",
          "text": [
            "Accuracy: 42.90%\n",
            "\n",
            "Classification Report:\n",
            "              precision    recall  f1-score   support\n",
            "\n",
            "      attack       0.92      0.28      0.43       768\n",
            "      normal       0.28      0.91      0.43       232\n",
            "\n",
            "    accuracy                           0.43      1000\n",
            "   macro avg       0.60      0.60      0.43      1000\n",
            "weighted avg       0.77      0.43      0.43      1000\n",
            " \n",
            "\n"
          ]
        },
        {
          "output_type": "display_data",
          "data": {
            "text/plain": [
              "<Figure size 1800x600 with 3 Axes>"
            ],
            "image/png": "[encoded data removed]"
          },
          "metadata": {}
        }
      ]
    }
  ]
}