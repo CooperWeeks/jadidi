{
  "nbformat": 4,
  "nbformat_minor": 0,
  "metadata": {
    "colab": {
      "provenance": [],
      "authorship_tag": "ABX9TyNlUGQpN9q9xUtWircwLXAf",
      "include_colab_link": true
    },
    "kernelspec": {
      "name": "python3",
      "display_name": "Python 3"
    },
    "language_info": {
      "name": "python"
    }
  },
  "cells": [
    {
      "cell_type": "markdown",
      "metadata": {
        "id": "view-in-github",
        "colab_type": "text"
      },
      "source": [
        "<a href=\"https://colab.research.google.com/github/CooperWeeks/jadidi/blob/main/Binary_Model_2_47_3__.ipynb\" target=\"_parent\"><img src=\"https://colab.research.google.com/assets/colab-badge.svg\" alt=\"Open In Colab\"/></a>"
      ]
    },
    {
      "cell_type": "code",
      "execution_count": null,
      "metadata": {
        "id": "BvNJYc6J7CqN"
      },
      "outputs": [],
      "source": []
    },
    {
      "cell_type": "code",
      "execution_count": null,
      "metadata": {
        "id": "m3kMo8NwaRWC"
      },
      "outputs": [],
      "source": [
        "%%capture\n",
        "# Installs Unsloth, Xformers (Flash Attention) and all other packages!\n",
        "!pip install \"unsloth[colab-new] @ git+https://github.com/unslothai/unsloth.git\"\n",
        "\n",
        "# We have to check which Torch version for Xformers (2.3 -> 0.0.27)\n",
        "from torch import __version__; from packaging.version import Version as V\n",
        "xformers = \"xformers==0.0.27\" if V(__version__) < V(\"2.4.0\") else \"xformers\"\n",
        "!pip install --no-deps {xformers} trl peft accelerate bitsandbytes triton"
      ]
    },
    {
      "cell_type": "markdown",
      "metadata": {
        "id": "xAbDkt1WXtrw"
      },
      "source": [
        "# **Preprocessing**\n",
        "\n",
        "If you are using the original csv data, this cell is used to get the desired json format for model training."
      ]
    },
    {
      "cell_type": "code",
      "execution_count": null,
      "metadata": {
        "id": "UEz_Qcy1UoLK"
      },
      "outputs": [],
      "source": [
        "import csv\n",
        "import json\n",
        "\n",
        "# File paths\n",
        "csv_file = 'train_test_network.csv'\n",
        "jsonl_file = 'train_test_network.jsonl'\n",
        "\n",
        "with open(csv_file, 'r') as f, open(jsonl_file, 'w') as jsonl_f:\n",
        "    reader = csv.DictReader(f)\n",
        "\n",
        "    for row in reader:\n",
        "        # Normalize the label to ensure comparison is case-insensitive\n",
        "        label_field = row['type'].strip().lower()\n",
        "\n",
        "        # Determine if the connection is an attack or normal\n",
        "        label = 'normal' if label_field == 'normal' else 'attack'\n",
        "\n",
        "        # Construct the user message by concatenating all relevant fields\n",
        "        user_message = \", \".join([f\"{key}: {value}\" for key, value in row.items() if key != 'label' and key != 'type'])\n",
        "\n",
        "        # Create the conversation in the desired format\n",
        "        conversation = {\n",
        "            \"conversations\": [\n",
        "                {\"from\": \"human\", \"value\": user_message},\n",
        "                {\"from\": \"gpt\", \"value\": label}\n",
        "            ]\n",
        "        }\n",
        "\n",
        "        # Write each conversation as a JSON object in a new line\n",
        "        jsonl_f.write(json.dumps(conversation) + \"\\n\")"
      ]
    },
    {
      "cell_type": "markdown",
      "metadata": {
        "id": "5jtpCUlQAkBW"
      },
      "source": [
        "# **Load Model**"
      ]
    },
    {
      "cell_type": "code",
      "execution_count": null,
      "metadata": {
        "colab": {
          "base_uri": "https://localhost:8080/",
          "height": 362,
          "referenced_widgets": [
            "baa9569cd2e646dd9129f94df8014ee2",
            "81499acd63044c3ca6414ec6e45944e1",
            "7fefd35ad3bb431087db127101ad6462",
            "a29f64a4998a41b99e9046d42f7c8f72",
            "73f89c00a99449e9a0307fcd5817dc50",
            "faf3c3c68a8b4196833ba57d3a2211bf",
            "5db96f9e6e484bfbbb5a5db541e57bf6",
            "e618471d105e4c39a430f978468d3282",
            "6918977daae54050a744317c9a3524f3",
            "c7352e87829648e8a1907d09a1338e43",
            "f906e00087244dc2bd0589a36f2fae50",
            "9e210b13521a42ca937c00e0f926c978",
            "ba4659d25eab4606a55bed7c1c6e0cf7",
            "421058f92d2f4984bee967348edffff3",
            "edc5f16c86f449ba9d3c2e1b00bef916",
            "3fd866100ff94eff8d3a682915cb6e34",
            "c565a36259c044ff93de56af1c7539a9",
            "0984b962585449f1b3c83fa2ea5d2116",
            "81984da32f7a40acb805ee3e7b99223f",
            "1541f13060e34171a7dc29d047bb4312",
            "8294891da19245e68e1b32446112fbeb",
            "586dfdd467a148fea5f7d6d8e43e88a6",
            "a3e73abf6fb3412daa94cf327a2f3f16",
            "eebc9ec6d8254ca8adcf595e2a26ed71",
            "451cfd5e886241a7a19c53a312400fac",
            "e10c8a981d2c4c889227402023fa4c35",
            "6871edc9fde94f66b33099a4ee637aa7",
            "5f2f1c49ea78474ba96ff40b4ce52748",
            "d4c2af5c6c7d4dc08d6b7b287e11eefc",
            "b7e599b581cb4183b0e4dd8272bbf200",
            "dd276ac3c0a5478aa629dbfc9e41c2ad",
            "492f377bebb74ce6bf0b957fc5790a8e",
            "b6b56c8939b449259b1d8dbeda96a73a",
            "324c03ccaae64be89365c6860e24bcb2",
            "c6c71f1f770640369cfed42aaa3f944c",
            "28d3c213bb6c4fa5825660118e7023b0",
            "097a84bfa99c4188a62f511c2a2d91aa",
            "fc1727c0e2f242aebd8b3f173d37b2a2",
            "94541ce2f70d43b0834d4ea4bd093f02",
            "a7df0a2cdfc64c54a305f8552df459e6",
            "34b6ab49122445239f65ea93c41eb2bf",
            "9c0bea6fe1054f7a8a48e717d9bdc871",
            "8e4efd1f45f04cbf9e93be386d388409",
            "871748448e5e47c3bf506bd8afa14b6b",
            "8ac363533e4e40789ce3611aa4f7c571",
            "507d7f3988b84a12ad64c7a7b8c7bfe3",
            "9a82a5e26f9d4403bd26b29c515d35e6",
            "8b030dcf97904f54a52b295cdc3b0942",
            "5bf2f6832f314fab9aa50ff2d425d146",
            "12d636b18f924b90b923c176e9aee6b4",
            "69d775d194bc4837a70e327e3e061120",
            "30a0d388e6c148ddbbb27a237de6065e",
            "d42945d159fa43d398b9f6707a518bcd",
            "dd9f8d6a5b774f1da3a4eba82ff0e17c",
            "8b7aa178d0c549c39ac061d99d5728ce",
            "137dedc68e4b4cfeab2e56ab6eb6ec6c",
            "b286d838b6d842209f7041bf26246030",
            "48f00325e3234281a72ed8ba486a497a",
            "c961aa96449148e59224671e48f2ea99",
            "de807eff2ecd40b693473f7c6ec19249",
            "f48cb6419b064881b7afe9b1dfd9f763",
            "8ddfd2630bcc4f94b4031e2630db1ae8",
            "6a734786b7fc4576bd34505b6983997d",
            "efff4c70404c4f2aafe6606dae889884",
            "34685909a87c422ea7453a290a4d1599",
            "549468e534eb4de9b02626c7a4861977",
            "71c9210d43d247fd854ba3502e4bd399",
            "08b1ce8201cd437f944c658a89d94d8e",
            "b6d5faf5c9144e4387cc62102b29c60e",
            "08562ba063594efdb148716dcaea30b0",
            "2b756c3bbed943be83f5ecb30e9b0633",
            "40a7159d82d248b1b986a81b71699153",
            "8e1f13e587294812b77907b8c118f65a",
            "d61794b84d3e44a285f98009127b7579",
            "0647682727174e70b64c87244022e2ad",
            "c4ee1624a3db40d68faf15f4e377bfab",
            "d94afec4815f4705a7b48c5131f58877"
          ]
        },
        "id": "-_mwfP0jASMX",
        "outputId": "0b012da8-e9ec-4d63-ee34-978d293f2efc"
      },
      "outputs": [
        {
          "output_type": "stream",
          "name": "stdout",
          "text": [
            "🦥 Unsloth: Will patch your computer to enable 2x faster free finetuning.\n",
            "==((====))==  Unsloth 2024.8: Fast Llama patching. Transformers = 4.44.2.\n",
            "   \\\\   /|    GPU: Tesla T4. Max memory: 14.748 GB. Platform = Linux.\n",
            "O^O/ \\_/ \\    Pytorch: 2.4.0+cu121. CUDA = 7.5. CUDA Toolkit = 12.1.\n",
            "\\        /    Bfloat16 = FALSE. FA [Xformers = 0.0.28. FA2 = False]\n",
            " \"-____-\"     Free Apache license: http://github.com/unslothai/unsloth\n",
            "Unsloth: Fast downloading is enabled - ignore downloading bars which are red colored!\n"
          ]
        },
        {
          "output_type": "display_data",
          "data": {
            "text/plain": [
              "model.safetensors:   0%|          | 0.00/2.26G [00:00<?, ?B/s]"
            ],
            "application/vnd.jupyter.widget-view+json": {
              "version_major": 2,
              "version_minor": 0,
              "model_id": "baa9569cd2e646dd9129f94df8014ee2"
            }
          },
          "metadata": {}
        },
        {
          "output_type": "display_data",
          "data": {
            "text/plain": [
              "generation_config.json:   0%|          | 0.00/140 [00:00<?, ?B/s]"
            ],
            "application/vnd.jupyter.widget-view+json": {
              "version_major": 2,
              "version_minor": 0,
              "model_id": "9e210b13521a42ca937c00e0f926c978"
            }
          },
          "metadata": {}
        },
        {
          "output_type": "display_data",
          "data": {
            "text/plain": [
              "tokenizer_config.json:   0%|          | 0.00/3.37k [00:00<?, ?B/s]"
            ],
            "application/vnd.jupyter.widget-view+json": {
              "version_major": 2,
              "version_minor": 0,
              "model_id": "a3e73abf6fb3412daa94cf327a2f3f16"
            }
          },
          "metadata": {}
        },
        {
          "output_type": "display_data",
          "data": {
            "text/plain": [
              "tokenizer.model:   0%|          | 0.00/500k [00:00<?, ?B/s]"
            ],
            "application/vnd.jupyter.widget-view+json": {
              "version_major": 2,
              "version_minor": 0,
              "model_id": "324c03ccaae64be89365c6860e24bcb2"
            }
          },
          "metadata": {}
        },
        {
          "output_type": "display_data",
          "data": {
            "text/plain": [
              "added_tokens.json:   0%|          | 0.00/293 [00:00<?, ?B/s]"
            ],
            "application/vnd.jupyter.widget-view+json": {
              "version_major": 2,
              "version_minor": 0,
              "model_id": "8ac363533e4e40789ce3611aa4f7c571"
            }
          },
          "metadata": {}
        },
        {
          "output_type": "display_data",
          "data": {
            "text/plain": [
              "special_tokens_map.json:   0%|          | 0.00/571 [00:00<?, ?B/s]"
            ],
            "application/vnd.jupyter.widget-view+json": {
              "version_major": 2,
              "version_minor": 0,
              "model_id": "137dedc68e4b4cfeab2e56ab6eb6ec6c"
            }
          },
          "metadata": {}
        },
        {
          "output_type": "display_data",
          "data": {
            "text/plain": [
              "tokenizer.json:   0%|          | 0.00/1.84M [00:00<?, ?B/s]"
            ],
            "application/vnd.jupyter.widget-view+json": {
              "version_major": 2,
              "version_minor": 0,
              "model_id": "71c9210d43d247fd854ba3502e4bd399"
            }
          },
          "metadata": {}
        }
      ],
      "source": [
        "from unsloth import FastLanguageModel\n",
        "import torch\n",
        "\n",
        "samples = 1000\n",
        "max_seq_length = 2048\n",
        "dtype = None\n",
        "load_in_4bit = True # Use 4bit quantization to reduce memory usage. Can be False.\n",
        "\n",
        "# Load the model. Need for tokenizer.\n",
        "model, tokenizer = FastLanguageModel.from_pretrained(\n",
        "    model_name = \"unsloth/Phi-3.5-mini-instruct\",\n",
        "    max_seq_length = max_seq_length,\n",
        "    dtype = dtype,\n",
        "    load_in_4bit = load_in_4bit,\n",
        ")"
      ]
    },
    {
      "cell_type": "markdown",
      "metadata": {
        "id": "ihldyrKGSY7E"
      },
      "source": [
        "# **Split the data into test, train and evaluation sets**\n"
      ]
    },
    {
      "cell_type": "code",
      "execution_count": null,
      "metadata": {
        "id": "EqY9mvtVhxSM"
      },
      "outputs": [],
      "source": [
        "import torch\n",
        "from unsloth.chat_templates import get_chat_template\n",
        "\n",
        "tokenizer = get_chat_template(\n",
        "    tokenizer,\n",
        "    chat_template = \"phi-3\",\n",
        "    mapping = {\"role\" : \"from\", \"content\" : \"value\", \"user\" : \"human\", \"assistant\" : \"gpt\"}, # ShareGPT style\n",
        ")\n",
        "\n",
        "def formatting_prompts_func(examples):\n",
        "    convos = examples[\"conversations\"]\n",
        "    texts = [tokenizer.apply_chat_template(convo, tokenize = False, add_generation_prompt = False) for convo in convos]\n",
        "    return { \"text\" : texts, }\n",
        "pass"
      ]
    },
    {
      "cell_type": "code",
      "execution_count": null,
      "metadata": {
        "colab": {
          "base_uri": "https://localhost:8080/",
          "height": 145,
          "referenced_widgets": [
            "aebd3343e7d646f18005f272589daa38",
            "cfabb06b96de4082a5d97bbc858510e6",
            "7be3781223944fa89930e7551a417308",
            "b9b654cda998442ab394d0f9e79c0c5c",
            "a1b1567f000444b0bb9744a579e3daf4",
            "de77e4b127714b938f93866188e0109f",
            "a8f3b490199f435db792202c4b739ff3",
            "68e3af96a48849f4814d61202fddc5c2",
            "f8cf4954f89049bcb624d1e876b96f15",
            "6abdfca282fb4889b597343fbf8eae2c",
            "fef6f2d3761b4cc59a009d82e2edc1db",
            "b123d0fa98004cf8bbedfb28c289f489",
            "455a255d4b8c45df9c1f72ea7036d345",
            "c5f8d75e3fb74b9a98ae7bb6d8387157",
            "c5485be7955e4f67a7754b8d543d6939",
            "be19e194b2094ab991ce5ef46c019e87",
            "590cc7e77e004528a03ae7154740c99e",
            "b5e70f8812034cf2bfd47eb86f49d86a",
            "86afe9dd7e0d453886bbfc99d5588d8d",
            "82ddc9f8f5644e35a1815636ddb55b41",
            "02c8d25e86e9458f92588a31d23d652a",
            "43509bee32844d9b9347d1d2b561c5f3",
            "104e172f7e9f420782aed1fe0b7694b1",
            "0e12303c6ac440c58e5031234fac7b97",
            "bf0beb06d85d42e897706fa83ead22a7",
            "795264bf0fc0428b9e7c8f62628c4a6b",
            "9285c75360334eccaf8ef400979dea19",
            "b5b27d1d428442178e5e7fafedad8c78",
            "5bd239f28b21470190a8a998d61af159",
            "3a6d64b11f8743cf8917e7e826041db6",
            "102a18a81a7b40c79091b241bb638311",
            "adc07a07fd5e47f0a0ebc2e5b7022488",
            "ca7be9c0fa3b404ab21b11eb8415e933",
            "caa7129f10084585917eaec26e423ca8",
            "ad363a8874bc4b7dbfcc20c7261cd28e",
            "d31f0726d1ab4901be15a91c85b5d67f",
            "84e4cb0c05da48ee9d2ecfa9311db193",
            "f6c21433636c45ddadae507bb8a0ecb6",
            "2e479373506d4f8d87bc7c728089b0e6",
            "de4f41eb4acf40729bfe869770c6e281",
            "f96f09386ae049ef82acb6782e1ef344",
            "d2e36cc6ffb640619203d6277167661f",
            "3c5e60586dfc4d71bc57cb31cdb43bde",
            "c1a0925eb3014018bc4a88eb4856ea39"
          ]
        },
        "id": "J068TkOzx5ob",
        "outputId": "c7420bb9-f9e9-4234-9c52-000eea44aad5"
      },
      "outputs": [
        {
          "output_type": "display_data",
          "data": {
            "text/plain": [
              "Generating train split: 0 examples [00:00, ? examples/s]"
            ],
            "application/vnd.jupyter.widget-view+json": {
              "version_major": 2,
              "version_minor": 0,
              "model_id": "aebd3343e7d646f18005f272589daa38"
            }
          },
          "metadata": {}
        },
        {
          "output_type": "display_data",
          "data": {
            "text/plain": [
              "Map:   0%|          | 0/135067 [00:00<?, ? examples/s]"
            ],
            "application/vnd.jupyter.widget-view+json": {
              "version_major": 2,
              "version_minor": 0,
              "model_id": "b123d0fa98004cf8bbedfb28c289f489"
            }
          },
          "metadata": {}
        },
        {
          "output_type": "display_data",
          "data": {
            "text/plain": [
              "Map:   0%|          | 0/33767 [00:00<?, ? examples/s]"
            ],
            "application/vnd.jupyter.widget-view+json": {
              "version_major": 2,
              "version_minor": 0,
              "model_id": "104e172f7e9f420782aed1fe0b7694b1"
            }
          },
          "metadata": {}
        },
        {
          "output_type": "display_data",
          "data": {
            "text/plain": [
              "Map:   0%|          | 0/42209 [00:00<?, ? examples/s]"
            ],
            "application/vnd.jupyter.widget-view+json": {
              "version_major": 2,
              "version_minor": 0,
              "model_id": "caa7129f10084585917eaec26e423ca8"
            }
          },
          "metadata": {}
        }
      ],
      "source": [
        "from datasets import load_dataset\n",
        "from sklearn.model_selection import train_test_split\n",
        "\n",
        "#Files located in google colab gpu instance,\n",
        "file_path = f'/content/{jsonl_file}'\n",
        "dataset = load_dataset('json', data_files=file_path, split='train')\n",
        "\n",
        "# Split the dataset\n",
        "split_dataset = dataset.train_test_split(test_size=0.2)  # 20% test data\n",
        "\n",
        "# Access the training and testing splits\n",
        "train_dataset = split_dataset['train']\n",
        "test_dataset = split_dataset['test']\n",
        "\n",
        "# Further split the training dataset into train and validation sets\n",
        "train_split = train_dataset.train_test_split(test_size=0.2)  # 20% test data\n",
        "\n",
        "# Access the new splits\n",
        "train_dataset = train_split['train']\n",
        "eval_dataset = train_split['test']\n",
        "\n",
        "train_dataset = train_dataset.map(formatting_prompts_func, batched = True,)\n",
        "eval_dataset = eval_dataset.map(formatting_prompts_func, batched = True,)\n",
        "test_dataset = test_dataset.map(formatting_prompts_func, batched = True,)"
      ]
    },
    {
      "cell_type": "code",
      "execution_count": null,
      "metadata": {
        "id": "6N1GoeHFY_cC"
      },
      "outputs": [],
      "source": [
        "import time\n",
        "import sys\n",
        "\n",
        "def evaluate_model_on_dataset(model, tokenizer, test_dataset, num_samples):\n",
        "\n",
        "    # Enable native 2x faster inference\n",
        "    FastLanguageModel.for_inference(model)\n",
        "\n",
        "    # List to store predictions\n",
        "    predictions = []\n",
        "    ground_truths = []\n",
        "    start_time = time.time()\n",
        "\n",
        "    # Metrics\n",
        "    correct = 0\n",
        "    incorrect = 0\n",
        "    accuracy = 0\n",
        "\n",
        "    prompt = \"Given the following network data, classify the traffic as either 'attack' or 'normal' with a single word:\\n\\n\"\n",
        "    print(f\"Prompt: {prompt}\")\n",
        "\n",
        "    # Function to map incomplete answers to full words (e.g attac or norm)\n",
        "    def complete_prediction(pred):\n",
        "        if pred.lower().startswith('a'):\n",
        "            return \"attack\"\n",
        "        elif pred.lower().startswith('n'):\n",
        "            return \"normal\"\n",
        "        else:\n",
        "            return pred  # Return as is if it doesn't start with 'a' or 'n'\n",
        "\n",
        "    # Loop over each item in the test dataset\n",
        "    for item in test_dataset.select(range(num_samples)):\n",
        "\n",
        "        # Extract the human input from the item\n",
        "        human_input = item['conversations'][0]['value']\n",
        "\n",
        "        # Prepare messages with the current input\n",
        "        message = [{\"from\": \"human\", \"value\": f\"{prompt}{human_input}\"}]\n",
        "\n",
        "        # Tokenize the input\n",
        "        inputs = tokenizer.apply_chat_template(\n",
        "            message,\n",
        "            tokenize=True,\n",
        "            add_generation_prompt=True,  # Must add for generation\n",
        "            return_tensors=\"pt\",\n",
        "        ).to(\"cuda\")\n",
        "\n",
        "        # Generate the output\n",
        "        outputs = model.generate(input_ids=inputs, max_new_tokens=1, use_cache=True)\n",
        "        answer = tokenizer.batch_decode(outputs)\n",
        "\n",
        "        # Process the prediction\n",
        "        pred = complete_prediction(answer[0].split()[-1])\n",
        "        truth = item['conversations'][1]['value'].strip()\n",
        "\n",
        "        # Append predictions and truths\n",
        "        predictions.append(pred)\n",
        "        ground_truths.append(truth)\n",
        "\n",
        "        # Update metrics\n",
        "        if pred == truth:\n",
        "            correct += 1\n",
        "            color_code = \"\\033[32m\"  # Green\n",
        "        else:\n",
        "            incorrect += 1\n",
        "            color_code = \"\\033[31m\"  # Red\n",
        "\n",
        "        # Calculate accuracy\n",
        "        elapsed_time = time.time() - start_time\n",
        "        accuracy = (correct / (correct + incorrect)) * 100\n",
        "\n",
        "        # Print current status\n",
        "        sys.stdout.write(f\"\\rElapsed Time: {elapsed_time:.2f} seconds, Accuracy: {accuracy:.2f}%, Completed: {correct + incorrect}/{num_samples} Prediction: {color_code}{pred}\\033[0m, Ground Truth: {color_code}{truth}\\033[0m\")\n",
        "        sys.stdout.flush()\n",
        "\n",
        "    print(\"\\n\\n\\nInference Complete\\n\\n\\n\")\n",
        "\n",
        "    return predictions, ground_truths"
      ]
    },
    {
      "cell_type": "code",
      "execution_count": null,
      "metadata": {
        "id": "mVmdz7LNJ1MO"
      },
      "outputs": [],
      "source": [
        "import matplotlib.pyplot as plt\n",
        "import seaborn as sns\n",
        "from sklearn.metrics import accuracy_score, precision_score, recall_score, f1_score, confusion_matrix, classification_report\n",
        "import numpy as np\n",
        "import pandas as pd\n",
        "\n",
        "def metrics(predictions, ground_truths):\n",
        "    # Convert to numpy arrays\n",
        "    y_true = np.array(ground_truths)\n",
        "    y_pred = np.array(predictions)\n",
        "\n",
        "    # Convert string labels to numeric values\n",
        "    label_mapping = {'attack': 1, 'normal': 0}\n",
        "    y_true_numeric = np.array([label_mapping[label] for label in y_true])\n",
        "    y_pred_numeric = np.array([label_mapping[label] for label in y_pred])\n",
        "\n",
        "    accuracy = accuracy_score(y_true, y_pred)*100\n",
        "    print(f\"Accuracy: {accuracy:.2f}%\\n\")\n",
        "\n",
        "    # Print classification report\n",
        "    class_report = classification_report(y_true, y_pred, labels=['attack', 'normal'])\n",
        "    print(\"Classification Report:\")\n",
        "    print(class_report, '\\n')\n",
        "\n",
        "    # Compute metrics\n",
        "    precision = precision_score(y_true, y_pred, average=None, labels=['attack', 'normal'])\n",
        "    recall = recall_score(y_true, y_pred, average=None, labels=['attack', 'normal'])\n",
        "    f1 = f1_score(y_true, y_pred, average=None, labels=['attack', 'normal'])\n",
        "\n",
        "    metrics_df = pd.DataFrame({\n",
        "        'Class': ['attack', 'normal'],\n",
        "        'Precision': precision,\n",
        "        'Recall': recall,\n",
        "        'F1 Score': f1\n",
        "    })\n",
        "\n",
        "    # Create subplots\n",
        "    fig, axes = plt.subplots(1, 2, figsize=(18, 6))  # Two plots side by side\n",
        "\n",
        "    # Plot precision, recall, and F1 score\n",
        "    metrics_df.plot(x='Class', kind='bar', ax=axes[0])\n",
        "    axes[0].set_title('Precision, Recall, and F1 Score by Class')\n",
        "    axes[0].set_xlabel('Class')\n",
        "    axes[0].set_ylabel('Score')\n",
        "    axes[0].set_ylim(0, 1)\n",
        "\n",
        "    # Plot confusion matrix\n",
        "    cm = confusion_matrix(y_true, y_pred, labels=['attack', 'normal'])\n",
        "    sns.heatmap(cm, annot=True, fmt='d', cmap='Blues', xticklabels=['attack', 'normal'], yticklabels=['attack', 'normal'], ax=axes[1])\n",
        "    axes[1].set_xlabel('Predicted')\n",
        "    axes[1].set_ylabel('True')\n",
        "    axes[1].set_title('Confusion Matrix')\n",
        "\n",
        "    # Adjust layout\n",
        "    plt.subplots_adjust(wspace=0.3)\n",
        "    plt.show()\n"
      ]
    },
    {
      "cell_type": "markdown",
      "metadata": {
        "id": "0KQutcDakYDQ"
      },
      "source": [
        "## **Fine-Tuning**"
      ]
    },
    {
      "cell_type": "markdown",
      "metadata": {
        "id": "akPip2OuQRhm"
      },
      "source": [
        "**Fine-Tuning the Phi 3 Model for Cybersecurity Data Labeling**\n",
        "\n",
        "In this notebook, we are fine-tuning the Phi 3 model to enhance its performance in cybersecurity data labeling tasks. Although the Phi 3 model is powerful, it is initially pre-trained on general text data, which may not fully capture the specific patterns and nuances present in cybersecurity datasets. Through fine-tuning, we aim to adapt the model to the unique characteristics of our data, enabling it to more effectively distinguish between normal network traffic and potential threats.\n",
        "\n",
        "Fine-tuning is a critical step in ensuring that the model is well-suited to the specific challenges of our data labeling project, leading to more accurate and reliable predictions, which are crucial for effective intrusion detection.\n",
        "\n",
        "We are using Unsloth, a specialized tool designed to optimize and streamline the fine-tuning process for large language models. Unsloth allows us to efficiently manage and apply the necessary transformations and templates that align the model's training with our specific objectives in cybersecurity. By leveraging Unsloth, we can customize the fine-tuning process, making it more effective and tailored to our needs.\n",
        "\n",
        "Using Unsloth ensures that the fine-tuning process is not only faster but also more closely aligned with the demands of our project, ultimately leading to better results in our intrusion detection tasks."
      ]
    },
    {
      "cell_type": "code",
      "execution_count": null,
      "metadata": {
        "colab": {
          "base_uri": "https://localhost:8080/"
        },
        "id": "t2TEQ8JkhpWh",
        "outputId": "e4d72bab-e752-4f99-e7f4-3bc9ed41cd42"
      },
      "outputs": [
        {
          "output_type": "stream",
          "name": "stderr",
          "text": [
            "Unsloth 2024.8 patched 32 layers with 32 QKV layers, 32 O layers and 32 MLP layers.\n"
          ]
        }
      ],
      "source": [
        "model = FastLanguageModel.get_peft_model(\n",
        "    model,\n",
        "    r = 128, # Choose any number > 0 ! Suggested 8, 16, 32, 64, 128\n",
        "    target_modules = [\"q_proj\", \"k_proj\", \"v_proj\", \"o_proj\",\n",
        "                      \"gate_proj\", \"up_proj\", \"down_proj\",],\n",
        "    lora_alpha = 10,\n",
        "    lora_dropout = 0, # Supports any, but = 0 is optimized\n",
        "    bias = \"none\",    # Supports any, but = \"none\" is optimized\n",
        "    # [NEW] \"unsloth\" uses 30% less VRAM, fits 2x larger batch sizes!\n",
        "    use_gradient_checkpointing = \"unsloth\", # True or \"unsloth\" for very long context\n",
        "    random_state = 3407,\n",
        "    use_rslora = True,  # We support rank stabilized LoRA\n",
        "    loftq_config = None, # And LoftQ\n",
        ")"
      ]
    },
    {
      "cell_type": "markdown",
      "metadata": {
        "id": "VzfgNqIYSkbB"
      },
      "source": [
        "# **Set model parameters**"
      ]
    },
    {
      "cell_type": "code",
      "execution_count": null,
      "metadata": {
        "colab": {
          "base_uri": "https://localhost:8080/",
          "height": 98,
          "referenced_widgets": [
            "867746f4bbcb4434a9cbeb2be62fc97c",
            "31f35e44808044388b4fc5989f1c5656",
            "67710b9680ec4f93ab673858768efee1",
            "85888990f22b43108bda648bb7f8d04e",
            "e2fa7a09ce3e476aa9f441fbfe0e68b5",
            "2dbaace0f52740e181b0de7d454a7370",
            "15e82558e7e9482bab390aea482159d3",
            "67f2d614a481409c922c5d441caba8b7",
            "f45b09bcd2cc45e6a5e49b38726c921d",
            "82c0d867c2b241fba8a2df5b64e65a25",
            "c8baf760762f4499a56bf4cda226679d",
            "bd4372ad29354184a7b6cd6b4ff89430",
            "42b4c34ef68d4bdd8aed54e7f820b413",
            "a1ba6911536746db9f42cc830be9d383",
            "2a8118be34fd44c8af1e40c154afdaa5",
            "293304bb413448fbbc44bd679ad75ebc",
            "3ac16f72eb4b45c192bc87571b086055",
            "8c506dd0943d49f7ad8c11ec65fa01c1",
            "d38810109a8348d19f9ac7c52f3a2f03",
            "832239d56b344dd4b7dad9f269d10f52",
            "fb0afba988434b6c8300d3e52b27757c",
            "5c80f1203e9b403695ce2088ee2bd569"
          ]
        },
        "id": "RI6FHOrH6vZb",
        "outputId": "ec0f7665-a1a6-4655-a6ae-5e2e624dcc55"
      },
      "outputs": [
        {
          "output_type": "display_data",
          "data": {
            "text/plain": [
              "Map (num_proc=2):   0%|          | 0/135067 [00:00<?, ? examples/s]"
            ],
            "application/vnd.jupyter.widget-view+json": {
              "version_major": 2,
              "version_minor": 0,
              "model_id": "867746f4bbcb4434a9cbeb2be62fc97c"
            }
          },
          "metadata": {}
        },
        {
          "output_type": "display_data",
          "data": {
            "text/plain": [
              "Map (num_proc=2):   0%|          | 0/33767 [00:00<?, ? examples/s]"
            ],
            "application/vnd.jupyter.widget-view+json": {
              "version_major": 2,
              "version_minor": 0,
              "model_id": "bd4372ad29354184a7b6cd6b4ff89430"
            }
          },
          "metadata": {}
        },
        {
          "output_type": "stream",
          "name": "stderr",
          "text": [
            "max_steps is given, it will override any value given in num_train_epochs\n"
          ]
        }
      ],
      "source": [
        "from trl import SFTTrainer\n",
        "from transformers import TrainingArguments\n",
        "\n",
        "trainer = SFTTrainer(\n",
        "    model = model,\n",
        "    tokenizer = tokenizer,\n",
        "    train_dataset = train_dataset,\n",
        "    eval_dataset = eval_dataset,\n",
        "    dataset_text_field = \"text\",\n",
        "    max_seq_length = max_seq_length,\n",
        "    dataset_num_proc = 2,\n",
        "    packing = False, # Packs short sequences together to save time!\n",
        "    args = TrainingArguments(\n",
        "        per_device_train_batch_size = 4,\n",
        "        gradient_accumulation_steps = 16,\n",
        "        warmup_steps = 5,\n",
        "        max_steps = 80,\n",
        "        num_train_epochs=3,\n",
        "        learning_rate = 2e-5,\n",
        "        fp16 = not torch.cuda.is_bf16_supported(),\n",
        "        bf16 = torch.cuda.is_bf16_supported(),\n",
        "        logging_steps = 1,\n",
        "        optim = \"adamw_8bit\",\n",
        "        weight_decay = 0.1,\n",
        "        lr_scheduler_type = \"linear\",\n",
        "        seed = 3407,\n",
        "        output_dir = \"outputs\",\n",
        "    ),\n",
        ")"
      ]
    },
    {
      "cell_type": "markdown",
      "metadata": {
        "id": "MYJo4aYmS1UH"
      },
      "source": [
        "# **Train Model**"
      ]
    },
    {
      "cell_type": "code",
      "execution_count": null,
      "metadata": {
        "id": "W9OoKlf9b4W3",
        "colab": {
          "base_uri": "https://localhost:8080/",
          "height": 1000
        },
        "outputId": "d4534518-0b08-4946-cc55-29872636b4f8"
      },
      "outputs": [
        {
          "output_type": "stream",
          "name": "stderr",
          "text": [
            "==((====))==  Unsloth - 2x faster free finetuning | Num GPUs = 1\n",
            "   \\\\   /|    Num examples = 135,067 | Num Epochs = 1\n",
            "O^O/ \\_/ \\    Batch size per device = 4 | Gradient Accumulation steps = 16\n",
            "\\        /    Total batch size = 64 | Total steps = 80\n",
            " \"-____-\"     Number of trainable parameters = 239,075,328\n"
          ]
        },
        {
          "output_type": "display_data",
          "data": {
            "text/plain": [
              "<IPython.core.display.HTML object>"
            ],
            "text/html": [
              "\n",
              "    <div>\n",
              "      \n",
              "      <progress value='80' max='80' style='width:300px; height:20px; vertical-align: middle;'></progress>\n",
              "      [80/80 52:04, Epoch 0/1]\n",
              "    </div>\n",
              "    <table border=\"1\" class=\"dataframe\">\n",
              "  <thead>\n",
              " <tr style=\"text-align: left;\">\n",
              "      <th>Step</th>\n",
              "      <th>Training Loss</th>\n",
              "    </tr>\n",
              "  </thead>\n",
              "  <tbody>\n",
              "    <tr>\n",
              "      <td>1</td>\n",
              "      <td>1.442200</td>\n",
              "    </tr>\n",
              "    <tr>\n",
              "      <td>2</td>\n",
              "      <td>1.458700</td>\n",
              "    </tr>\n",
              "    <tr>\n",
              "      <td>3</td>\n",
              "      <td>1.460800</td>\n",
              "    </tr>\n",
              "    <tr>\n",
              "      <td>4</td>\n",
              "      <td>1.383800</td>\n",
              "    </tr>\n",
              "    <tr>\n",
              "      <td>5</td>\n",
              "      <td>1.345600</td>\n",
              "    </tr>\n",
              "    <tr>\n",
              "      <td>6</td>\n",
              "      <td>1.310700</td>\n",
              "    </tr>\n",
              "    <tr>\n",
              "      <td>7</td>\n",
              "      <td>1.223800</td>\n",
              "    </tr>\n",
              "    <tr>\n",
              "      <td>8</td>\n",
              "      <td>1.191900</td>\n",
              "    </tr>\n",
              "    <tr>\n",
              "      <td>9</td>\n",
              "      <td>1.109800</td>\n",
              "    </tr>\n",
              "    <tr>\n",
              "      <td>10</td>\n",
              "      <td>1.053100</td>\n",
              "    </tr>\n",
              "    <tr>\n",
              "      <td>11</td>\n",
              "      <td>0.980700</td>\n",
              "    </tr>\n",
              "    <tr>\n",
              "      <td>12</td>\n",
              "      <td>0.940600</td>\n",
              "    </tr>\n",
              "    <tr>\n",
              "      <td>13</td>\n",
              "      <td>0.892200</td>\n",
              "    </tr>\n",
              "    <tr>\n",
              "      <td>14</td>\n",
              "      <td>0.845600</td>\n",
              "    </tr>\n",
              "    <tr>\n",
              "      <td>15</td>\n",
              "      <td>0.787300</td>\n",
              "    </tr>\n",
              "    <tr>\n",
              "      <td>16</td>\n",
              "      <td>0.739500</td>\n",
              "    </tr>\n",
              "    <tr>\n",
              "      <td>17</td>\n",
              "      <td>0.702100</td>\n",
              "    </tr>\n",
              "    <tr>\n",
              "      <td>18</td>\n",
              "      <td>0.621900</td>\n",
              "    </tr>\n",
              "    <tr>\n",
              "      <td>19</td>\n",
              "      <td>0.594600</td>\n",
              "    </tr>\n",
              "    <tr>\n",
              "      <td>20</td>\n",
              "      <td>0.563400</td>\n",
              "    </tr>\n",
              "    <tr>\n",
              "      <td>21</td>\n",
              "      <td>0.522200</td>\n",
              "    </tr>\n",
              "    <tr>\n",
              "      <td>22</td>\n",
              "      <td>0.464000</td>\n",
              "    </tr>\n",
              "    <tr>\n",
              "      <td>23</td>\n",
              "      <td>0.454900</td>\n",
              "    </tr>\n",
              "    <tr>\n",
              "      <td>24</td>\n",
              "      <td>0.397200</td>\n",
              "    </tr>\n",
              "    <tr>\n",
              "      <td>25</td>\n",
              "      <td>0.409300</td>\n",
              "    </tr>\n",
              "    <tr>\n",
              "      <td>26</td>\n",
              "      <td>0.382200</td>\n",
              "    </tr>\n",
              "    <tr>\n",
              "      <td>27</td>\n",
              "      <td>0.339700</td>\n",
              "    </tr>\n",
              "    <tr>\n",
              "      <td>28</td>\n",
              "      <td>0.316800</td>\n",
              "    </tr>\n",
              "    <tr>\n",
              "      <td>29</td>\n",
              "      <td>0.291400</td>\n",
              "    </tr>\n",
              "    <tr>\n",
              "      <td>30</td>\n",
              "      <td>0.277500</td>\n",
              "    </tr>\n",
              "    <tr>\n",
              "      <td>31</td>\n",
              "      <td>0.289800</td>\n",
              "    </tr>\n",
              "    <tr>\n",
              "      <td>32</td>\n",
              "      <td>0.239600</td>\n",
              "    </tr>\n",
              "    <tr>\n",
              "      <td>33</td>\n",
              "      <td>0.267100</td>\n",
              "    </tr>\n",
              "    <tr>\n",
              "      <td>34</td>\n",
              "      <td>0.243100</td>\n",
              "    </tr>\n",
              "    <tr>\n",
              "      <td>35</td>\n",
              "      <td>0.235900</td>\n",
              "    </tr>\n",
              "    <tr>\n",
              "      <td>36</td>\n",
              "      <td>0.217800</td>\n",
              "    </tr>\n",
              "    <tr>\n",
              "      <td>37</td>\n",
              "      <td>0.232500</td>\n",
              "    </tr>\n",
              "    <tr>\n",
              "      <td>38</td>\n",
              "      <td>0.203700</td>\n",
              "    </tr>\n",
              "    <tr>\n",
              "      <td>39</td>\n",
              "      <td>0.213800</td>\n",
              "    </tr>\n",
              "    <tr>\n",
              "      <td>40</td>\n",
              "      <td>0.210200</td>\n",
              "    </tr>\n",
              "    <tr>\n",
              "      <td>41</td>\n",
              "      <td>0.197900</td>\n",
              "    </tr>\n",
              "    <tr>\n",
              "      <td>42</td>\n",
              "      <td>0.213100</td>\n",
              "    </tr>\n",
              "    <tr>\n",
              "      <td>43</td>\n",
              "      <td>0.201100</td>\n",
              "    </tr>\n",
              "    <tr>\n",
              "      <td>44</td>\n",
              "      <td>0.197600</td>\n",
              "    </tr>\n",
              "    <tr>\n",
              "      <td>45</td>\n",
              "      <td>0.188500</td>\n",
              "    </tr>\n",
              "    <tr>\n",
              "      <td>46</td>\n",
              "      <td>0.169200</td>\n",
              "    </tr>\n",
              "    <tr>\n",
              "      <td>47</td>\n",
              "      <td>0.205400</td>\n",
              "    </tr>\n",
              "    <tr>\n",
              "      <td>48</td>\n",
              "      <td>0.190900</td>\n",
              "    </tr>\n",
              "    <tr>\n",
              "      <td>49</td>\n",
              "      <td>0.200000</td>\n",
              "    </tr>\n",
              "    <tr>\n",
              "      <td>50</td>\n",
              "      <td>0.194800</td>\n",
              "    </tr>\n",
              "    <tr>\n",
              "      <td>51</td>\n",
              "      <td>0.180500</td>\n",
              "    </tr>\n",
              "    <tr>\n",
              "      <td>52</td>\n",
              "      <td>0.178900</td>\n",
              "    </tr>\n",
              "    <tr>\n",
              "      <td>53</td>\n",
              "      <td>0.174700</td>\n",
              "    </tr>\n",
              "    <tr>\n",
              "      <td>54</td>\n",
              "      <td>0.183000</td>\n",
              "    </tr>\n",
              "    <tr>\n",
              "      <td>55</td>\n",
              "      <td>0.167000</td>\n",
              "    </tr>\n",
              "    <tr>\n",
              "      <td>56</td>\n",
              "      <td>0.171500</td>\n",
              "    </tr>\n",
              "    <tr>\n",
              "      <td>57</td>\n",
              "      <td>0.196500</td>\n",
              "    </tr>\n",
              "    <tr>\n",
              "      <td>58</td>\n",
              "      <td>0.159700</td>\n",
              "    </tr>\n",
              "    <tr>\n",
              "      <td>59</td>\n",
              "      <td>0.163300</td>\n",
              "    </tr>\n",
              "    <tr>\n",
              "      <td>60</td>\n",
              "      <td>0.176900</td>\n",
              "    </tr>\n",
              "    <tr>\n",
              "      <td>61</td>\n",
              "      <td>0.184700</td>\n",
              "    </tr>\n",
              "    <tr>\n",
              "      <td>62</td>\n",
              "      <td>0.166600</td>\n",
              "    </tr>\n",
              "    <tr>\n",
              "      <td>63</td>\n",
              "      <td>0.166600</td>\n",
              "    </tr>\n",
              "    <tr>\n",
              "      <td>64</td>\n",
              "      <td>0.168400</td>\n",
              "    </tr>\n",
              "    <tr>\n",
              "      <td>65</td>\n",
              "      <td>0.177800</td>\n",
              "    </tr>\n",
              "    <tr>\n",
              "      <td>66</td>\n",
              "      <td>0.170700</td>\n",
              "    </tr>\n",
              "    <tr>\n",
              "      <td>67</td>\n",
              "      <td>0.177800</td>\n",
              "    </tr>\n",
              "    <tr>\n",
              "      <td>68</td>\n",
              "      <td>0.168000</td>\n",
              "    </tr>\n",
              "    <tr>\n",
              "      <td>69</td>\n",
              "      <td>0.155700</td>\n",
              "    </tr>\n",
              "    <tr>\n",
              "      <td>70</td>\n",
              "      <td>0.183700</td>\n",
              "    </tr>\n",
              "    <tr>\n",
              "      <td>71</td>\n",
              "      <td>0.169600</td>\n",
              "    </tr>\n",
              "    <tr>\n",
              "      <td>72</td>\n",
              "      <td>0.165800</td>\n",
              "    </tr>\n",
              "    <tr>\n",
              "      <td>73</td>\n",
              "      <td>0.172800</td>\n",
              "    </tr>\n",
              "    <tr>\n",
              "      <td>74</td>\n",
              "      <td>0.164600</td>\n",
              "    </tr>\n",
              "    <tr>\n",
              "      <td>75</td>\n",
              "      <td>0.164800</td>\n",
              "    </tr>\n",
              "    <tr>\n",
              "      <td>76</td>\n",
              "      <td>0.188900</td>\n",
              "    </tr>\n",
              "    <tr>\n",
              "      <td>77</td>\n",
              "      <td>0.169400</td>\n",
              "    </tr>\n",
              "    <tr>\n",
              "      <td>78</td>\n",
              "      <td>0.195500</td>\n",
              "    </tr>\n",
              "    <tr>\n",
              "      <td>79</td>\n",
              "      <td>0.155600</td>\n",
              "    </tr>\n",
              "    <tr>\n",
              "      <td>80</td>\n",
              "      <td>0.160300</td>\n",
              "    </tr>\n",
              "  </tbody>\n",
              "</table><p>"
            ]
          },
          "metadata": {}
        }
      ],
      "source": [
        "trainer_stats = trainer.train()"
      ]
    },
    {
      "cell_type": "markdown",
      "metadata": {
        "id": "D4bnxjTOS6OG"
      },
      "source": [
        "# **Run inference on test data**"
      ]
    },
    {
      "cell_type": "code",
      "execution_count": null,
      "metadata": {
        "id": "thGuQIEPYJog",
        "colab": {
          "base_uri": "https://localhost:8080/"
        },
        "outputId": "85d716c2-bccd-422f-e503-ca93ea5a026c"
      },
      "outputs": [
        {
          "output_type": "stream",
          "name": "stderr",
          "text": [
            "The attention mask is not set and cannot be inferred from input because pad token is same as eos token. As a consequence, you may observe unexpected behavior. Please pass your input's `attention_mask` to obtain reliable results.\n"
          ]
        },
        {
          "output_type": "stream",
          "name": "stdout",
          "text": [
            "Prompt: Given the following network data, classify the traffic as either 'attack' or 'normal' with a single word:\n",
            "\n",
            "\n",
            "Elapsed Time: 299.58 seconds, Accuracy: 47.30%, Completed: 1000/1000 Prediction: \u001b[32mattack\u001b[0m, Ground Truth: \u001b[32mattack\u001b[0m\n",
            "\n",
            "\n",
            "Inference Complete\n",
            "\n",
            "\n",
            "\n"
          ]
        }
      ],
      "source": [
        "# Call the evaluation function\n",
        "pred, truth = evaluate_model_on_dataset(model, tokenizer, test_dataset, num_samples=samples)"
      ]
    },
    {
      "cell_type": "markdown",
      "metadata": {
        "id": "j1M3mCf8fogx"
      },
      "source": []
    },
    {
      "cell_type": "code",
      "execution_count": null,
      "metadata": {
        "id": "jqJ56550huU2",
        "colab": {
          "base_uri": "https://localhost:8080/",
          "height": 824
        },
        "outputId": "dc65b1ab-e9f1-4852-cd1b-8031446c0220"
      },
      "outputs": [
        {
          "output_type": "stream",
          "name": "stdout",
          "text": [
            "Accuracy: 47.30%\n",
            "\n",
            "Classification Report:\n",
            "              precision    recall  f1-score   support\n",
            "\n",
            "      attack       0.91      0.34      0.49       758\n",
            "      normal       0.30      0.90      0.45       242\n",
            "\n",
            "    accuracy                           0.47      1000\n",
            "   macro avg       0.61      0.62      0.47      1000\n",
            "weighted avg       0.77      0.47      0.48      1000\n",
            " \n",
            "\n"
          ]
        },
        {
          "output_type": "display_data",
          "data": {
            "text/plain": [
              "<Figure size 1800x600 with 3 Axes>"
            ],
            "image/png": "[encoded data removed]"
          },
          "metadata": {}
        }
      ],
      "source": [
        "metrics(pred, truth)"
      ]
    }
  ]
}